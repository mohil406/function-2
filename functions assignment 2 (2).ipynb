{
 "cells": [
  {
   "cell_type": "markdown",
   "id": "103cf346-13d7-4107-af7e-f78f2da9758a",
   "metadata": {},
   "source": [
    "Answer No.2 -->"
   ]
  },
  {
   "cell_type": "code",
   "execution_count": 8,
   "id": "418daeb3-b2f3-46bb-a42d-60559e1f9463",
   "metadata": {},
   "outputs": [],
   "source": [
    "l = [1, 2, 3, 4, 5, 6, 7, 8, 9, 10]"
   ]
  },
  {
   "cell_type": "code",
   "execution_count": 9,
   "id": "9e5b714a-3a4d-450e-b043-5f9a960a87fb",
   "metadata": {},
   "outputs": [
    {
     "data": {
      "text/plain": [
       "[1, 4, 9, 16, 25, 36, 49, 64, 81, 100]"
      ]
     },
     "execution_count": 9,
     "metadata": {},
     "output_type": "execute_result"
    }
   ],
   "source": [
    "list(map(lambda x : x**2 , l))"
   ]
  },
  {
   "cell_type": "markdown",
   "id": "52a2c9a2-209f-4717-b158-69adf32c33d5",
   "metadata": {},
   "source": [
    "Answer No.3 -->"
   ]
  },
  {
   "cell_type": "code",
   "execution_count": 10,
   "id": "8e5b8353-d483-48e8-9c72-9b17325a4f62",
   "metadata": {},
   "outputs": [],
   "source": [
    "l1 = [1, 2, 3, 4, 5, 6, 7, 8, 9, 10]"
   ]
  },
  {
   "cell_type": "code",
   "execution_count": 16,
   "id": "bdd259a5-202f-4738-8578-2806889a41d1",
   "metadata": {},
   "outputs": [
    {
     "data": {
      "text/plain": [
       "('1', '2', '3', '4', '5', '6', '7', '8', '9', '10')"
      ]
     },
     "execution_count": 16,
     "metadata": {},
     "output_type": "execute_result"
    }
   ],
   "source": [
    "tuple(map(lambda x : (str(x)) , l1 ))"
   ]
  },
  {
   "cell_type": "markdown",
   "id": "7cef6460-edbe-4321-a588-4d462d30c01b",
   "metadata": {},
   "source": [
    "Answer No. 4 -->"
   ]
  },
  {
   "cell_type": "code",
   "execution_count": 17,
   "id": "27635c92-67f3-4736-8e64-874ec50d4b25",
   "metadata": {},
   "outputs": [],
   "source": [
    "l2 = list(range(1,26))"
   ]
  },
  {
   "cell_type": "code",
   "execution_count": 19,
   "id": "82853788-5a08-498e-802d-461ba67c153b",
   "metadata": {},
   "outputs": [],
   "source": [
    "from functools import reduce"
   ]
  },
  {
   "cell_type": "code",
   "execution_count": 20,
   "id": "ed5f273f-8270-4ab7-8c68-85d5f2f18b2a",
   "metadata": {},
   "outputs": [
    {
     "data": {
      "text/plain": [
       "15511210043330985984000000"
      ]
     },
     "execution_count": 20,
     "metadata": {},
     "output_type": "execute_result"
    }
   ],
   "source": [
    "reduce(lambda x,y : x*y , l2)"
   ]
  },
  {
   "cell_type": "markdown",
   "id": "39a1a4ac-30db-4d71-b168-e59af84105e9",
   "metadata": {},
   "source": [
    "Answer No. 5 -->"
   ]
  },
  {
   "cell_type": "code",
   "execution_count": 22,
   "id": "5cd1ec26-723f-4464-afe2-45b09356a5df",
   "metadata": {},
   "outputs": [],
   "source": [
    "l3 = [2, 3, 6, 9, 27, 60, 90, 120, 55, 46]"
   ]
  },
  {
   "cell_type": "code",
   "execution_count": 29,
   "id": "f843863c-a771-465a-8a1e-8b6e94b69654",
   "metadata": {},
   "outputs": [],
   "source": [
    "def funct() :\n",
    "    for i in l3 :\n",
    "        if i%2 == 0 and i%3 == 0 :\n",
    "            print(i)\n",
    "    "
   ]
  },
  {
   "cell_type": "code",
   "execution_count": 35,
   "id": "9acd2866-e93b-4879-a035-1ce01da96c3e",
   "metadata": {},
   "outputs": [
    {
     "name": "stdout",
     "output_type": "stream",
     "text": [
      "6\n",
      "60\n",
      "90\n",
      "120\n"
     ]
    },
    {
     "data": {
      "text/plain": [
       "[2, 3, 6, 9, 27, 60, 90, 120, 55, 46]"
      ]
     },
     "execution_count": 35,
     "metadata": {},
     "output_type": "execute_result"
    }
   ],
   "source": [
    " list(filter(funct(), l3))\n",
    "        "
   ]
  },
  {
   "cell_type": "markdown",
   "id": "d87364a2-5adb-4b61-9f4b-1c2919d96f81",
   "metadata": {},
   "source": [
    "Answer No. 6 -->"
   ]
  },
  {
   "cell_type": "code",
   "execution_count": 12,
   "id": "951cf9b3-5259-4672-a1dd-03b457548e0b",
   "metadata": {},
   "outputs": [],
   "source": [
    "l5 = ['python', 'php', 'aba', 'radar', 'level']"
   ]
  },
  {
   "cell_type": "code",
   "execution_count": 13,
   "id": "5dec1ee2-d4d9-4851-9592-b8d08cadbfa8",
   "metadata": {},
   "outputs": [],
   "source": [
    "string = lambda x :  x == x[::-1]"
   ]
  },
  {
   "cell_type": "code",
   "execution_count": 14,
   "id": "4f046d4c-8498-4452-949c-dfd00d6c0c53",
   "metadata": {},
   "outputs": [],
   "source": [
    "palindrome = list(filter(string , l5 ))"
   ]
  },
  {
   "cell_type": "code",
   "execution_count": 93,
   "id": "15e970b1-aa92-48b7-af47-4952ce74efd8",
   "metadata": {},
   "outputs": [
    {
     "name": "stdout",
     "output_type": "stream",
     "text": [
      "['php', 'aba', 'radar', 'level']\n"
     ]
    }
   ],
   "source": [
    "print(palindrome)"
   ]
  },
  {
   "cell_type": "markdown",
   "id": "920cafbd-06b4-4feb-9beb-686b4876a84f",
   "metadata": {},
   "source": [
    "Answer No. 1 -->"
   ]
  },
  {
   "cell_type": "code",
   "execution_count": 1,
   "id": "e96eda95-0d0c-49ba-ae08-5c4dcf1ffaa7",
   "metadata": {},
   "outputs": [],
   "source": [
    "l8 = [('Sachin Tendulkar', 34357), ('Ricky Ponting', 27483), ('Jack Kallis', 25534), ('Virat Kohli', 24936)]"
   ]
  },
  {
   "cell_type": "code",
   "execution_count": 2,
   "id": "19031b8d-9b42-4e04-b6df-5369e8f9eab1",
   "metadata": {},
   "outputs": [],
   "source": [
    "num = lambda x : x[1]"
   ]
  },
  {
   "cell_type": "code",
   "execution_count": 5,
   "id": "b30f1ac3-865f-4d9b-85e0-a0e38e4a2757",
   "metadata": {},
   "outputs": [
    {
     "data": {
      "text/plain": [
       "[('Virat Kohli', 24936),\n",
       " ('Jack Kallis', 25534),\n",
       " ('Ricky Ponting', 27483),\n",
       " ('Sachin Tendulkar', 34357)]"
      ]
     },
     "execution_count": 5,
     "metadata": {},
     "output_type": "execute_result"
    }
   ],
   "source": [
    "sorted(l8 , key = num)"
   ]
  },
  {
   "cell_type": "code",
   "execution_count": null,
   "id": "c1a9de21-9605-4d39-821a-6bf3d76c7ea6",
   "metadata": {},
   "outputs": [],
   "source": []
  }
 ],
 "metadata": {
  "kernelspec": {
   "display_name": "Python 3 (ipykernel)",
   "language": "python",
   "name": "python3"
  },
  "language_info": {
   "codemirror_mode": {
    "name": "ipython",
    "version": 3
   },
   "file_extension": ".py",
   "mimetype": "text/x-python",
   "name": "python",
   "nbconvert_exporter": "python",
   "pygments_lexer": "ipython3",
   "version": "3.10.8"
  }
 },
 "nbformat": 4,
 "nbformat_minor": 5
}
